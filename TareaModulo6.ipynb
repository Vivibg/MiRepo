{
 "cells": [
  {
   "cell_type": "markdown",
   "id": "cf8e612a-5041-4c39-9250-44508dba644c",
   "metadata": {},
   "source": [
    "# Tarea Modulo 6\n",
    "# **Ciencia de Datos**"
   ]
  },
  {
   "cell_type": "markdown",
   "id": "6326a3b3-4f12-492e-8015-a0d0ef4ba00d",
   "metadata": {},
   "source": [
    "## **Introducción**\n",
    "## Este cuaderno forma parte del proyecto final del curso. Aquí aplicaremos conceptos básicos de ciencia de datos utilizando celdas Markdown y celdas de código en JupyterLite Notebook."
   ]
  },
  {
   "cell_type": "markdown",
   "id": "d3940f87-381b-4543-937c-9f77ed8e531a",
   "metadata": {},
   "source": [
    "## Ejercicio 4 - Lenguajes de ciencia de datos\n",
    "## **Lenguaje de cienca de datos:**\n",
    "### 1. Python\n",
    "### 2. R\n",
    "### 3. SQL\n",
    "### 4. Java\n",
    " "
   ]
  },
  {
   "cell_type": "markdown",
   "id": "1c538ed6-041c-4b04-9dc2-4b7845a8b157",
   "metadata": {},
   "source": [
    "## Ejercicio 5 - Bibliotecas de ciencia de datos\n",
    "## **Some of the commonly used libraries by Data Scientists include:**\n",
    "### 1. Pandas\n",
    "### 2. NumPy\n",
    "### 3. Matplotlib\n",
    "### 4. Scikit-learn\n",
    "### 5. TensorFlow"
   ]
  },
  {
   "cell_type": "markdown",
   "id": "868707fb-98d8-4473-979c-94480761fe5b",
   "metadata": {},
   "source": [
    "## Ejercicio 6 - Tabla de herramientas de Ciencia de Datos\n",
    "\n",
    "| Herramienta       | Descripción breve                         |\n",
    "|-------------------|-------------------------------------------|\n",
    "| Jupyter Notebook  | Entorno interactivo para código y texto   |\n",
    "| RStudio           | Entorno de desarrollo para R              |\n",
    "| GitHub            | Plataforma de control de versiones        |\n",
    "| Apache Spark      | Motor de análisis de grandes datos        |\n"
   ]
  },
  {
   "cell_type": "markdown",
   "id": "5a1fd12f-4431-46e0-92ea-ed4f57db0bc9",
   "metadata": {},
   "source": [
    "## Ejercicio 7 - Ejemplos de expresiones aritméticas\n",
    "### *A continuación se muestran algunas expresiones aritméticas básicas, como suma, resta, multiplicación y división:*\n"
   ]
  },
  {
   "cell_type": "code",
   "execution_count": 11,
   "id": "d730a0f3-cdc8-437f-9663-5e4914b2a01e",
   "metadata": {},
   "outputs": [
    {
     "name": "stdout",
     "output_type": "stream",
     "text": [
      "Resultado: 70\n"
     ]
    }
   ],
   "source": [
    "# Ejercicio 8 - Multiplicación y suma\n",
    "a = 5\n",
    "b = 10\n",
    "resultado = a * b + 20\n",
    "print(\"Resultado:\", resultado)\n"
   ]
  },
  {
   "cell_type": "code",
   "execution_count": null,
   "id": "a69f6711-0653-4453-b158-0551e917e346",
   "metadata": {},
   "outputs": [],
   "source": [
    "# Ejercicio 9 - Conversión de minutos a horas\n",
    "minutos = 200\n",
    "horas = minutos / 60\n",
    "print(\"Horas:\", horas)\n"
   ]
  },
  {
   "cell_type": "code",
   "execution_count": null,
   "id": "1634068c-76e3-41b1-b408-19406a37fb27",
   "metadata": {},
   "outputs": [],
   "source": [
    "# Ejercicio 10 - Lista de objetivos del curso\n",
    "objetivos = [\"Aprender fundamentos de Ciencia de Datos\", \"Usar Jupyter Notebooks\", \"Aplicar Python en proyectos\"]\n",
    "for objetivo in objetivos:\n",
    "    print(\"-\", objetivo)\n"
   ]
  },
  {
   "cell_type": "markdown",
   "id": "340a85a5-36de-4f39-8f76-1c3889ebc451",
   "metadata": {},
   "source": [
    "## Ejercicio 11 - Autor\n",
    "### Author\n",
    "# Vivi"
   ]
  },
  {
   "cell_type": "code",
   "execution_count": null,
   "id": "d8513630-7fb7-48df-ba27-3f7a775227dc",
   "metadata": {},
   "outputs": [],
   "source": []
  }
 ],
 "metadata": {
  "kernelspec": {
   "display_name": "Python 3 (ipykernel)",
   "language": "python",
   "name": "python3"
  },
  "language_info": {
   "codemirror_mode": {
    "name": "ipython",
    "version": 3
   },
   "file_extension": ".py",
   "mimetype": "text/x-python",
   "name": "python",
   "nbconvert_exporter": "python",
   "pygments_lexer": "ipython3",
   "version": "3.12.8"
  }
 },
 "nbformat": 4,
 "nbformat_minor": 5
}
