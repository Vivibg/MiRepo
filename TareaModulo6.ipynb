{
  "metadata": {
    "kernelspec": {
      "name": "python",
      "display_name": "Python (Pyodide)",
      "language": "python"
    },
    "language_info": {
      "codemirror_mode": {
        "name": "python",
        "version": 3
      },
      "file_extension": ".py",
      "mimetype": "text/x-python",
      "name": "python",
      "nbconvert_exporter": "python",
      "pygments_lexer": "ipython3",
      "version": "3.8"
    }
  },
  "nbformat_minor": 5,
  "nbformat": 4,
  "cells": [
    {
      "id": "cf8e612a-5041-4c39-9250-44508dba644c",
      "cell_type": "markdown",
      "source": "# Tarea Modulo 6\n **Ciencia de Datos**",
      "metadata": {}
    },
    {
      "id": "6326a3b3-4f12-492e-8015-a0d0ef4ba00d",
      "cell_type": "markdown",
      "source": "*Introducción*\n*Este cuaderno forma parte del proyecto final del curso. Aquí aplicaremos conceptos básicos de ciencia de datos utilizando celdas Markdown y celdas de código en JupyterLite Notebook.*",
      "metadata": {}
    },
    {
      "id": "d3940f87-381b-4543-937c-9f77ed8e531a",
      "cell_type": "markdown",
      "source": "### Ejercicio 4 - Lenguaje de cienca de datos:\n 1. Python\n 2. R\n 3. SQL\n 4. Java\n ",
      "metadata": {}
    },
    {
      "id": "1c538ed6-041c-4b04-9dc2-4b7845a8b157",
      "cell_type": "markdown",
      "source": "### Ejercicio 5 - Bibliotecas de ciencia de datos\n 1. Pandas\n 2. NumPy\n 3. Matplotlib\n 4. Scikit-learn\n 5. TensorFlow",
      "metadata": {}
    },
    {
      "id": "868707fb-98d8-4473-979c-94480761fe5b",
      "cell_type": "markdown",
      "source": "### Ejercicio 6 - Tabla de herramientas de Ciencia de Datos\n\n| Herramienta       | Descripción breve                         |\n|-------------------|-------------------------------------------|\n| Jupyter Notebook  | Entorno interactivo para código y texto   |\n| RStudio           | Entorno de desarrollo para R              |\n| GitHub            | Plataforma de control de versiones        |\n| Apache Spark      | Motor de análisis de grandes datos        |\n",
      "metadata": {}
    },
    {
      "id": "5a1fd12f-4431-46e0-92ea-ed4f57db0bc9",
      "cell_type": "markdown",
      "source": "### Ejercicio 7 - Ejemplos de expresiones aritméticas\nA continuación se muestran algunas expresiones aritméticas básicas, como suma, resta, multiplicación y división:\n",
      "metadata": {}
    },
    {
      "id": "d730a0f3-cdc8-437f-9663-5e4914b2a01e",
      "cell_type": "code",
      "source": "# Ejercicio 8 - Multiplicación y suma\na = 5\nb = 10\nresultado = a * b + 20\nprint(\"Resultado:\", resultado)\n",
      "metadata": {
        "trusted": true
      },
      "outputs": [
        {
          "name": "stdout",
          "output_type": "stream",
          "text": "Resultado: 70\n"
        }
      ],
      "execution_count": 5
    },
    {
      "id": "a69f6711-0653-4453-b158-0551e917e346",
      "cell_type": "code",
      "source": "# Ejercicio 9 - Conversión de minutos a horas\nminutos = 200\nhoras = minutos / 60\nprint(\"Horas:\", horas)\n",
      "metadata": {
        "trusted": true
      },
      "outputs": [
        {
          "name": "stdout",
          "output_type": "stream",
          "text": "Horas: 3.3333333333333335\n"
        }
      ],
      "execution_count": 6
    },
    {
      "id": "1634068c-76e3-41b1-b408-19406a37fb27",
      "cell_type": "code",
      "source": "# Ejercicio 10 - Lista de objetivos del curso\nobjetivos = [\"Aprender fundamentos de Ciencia de Datos\", \"Usar Jupyter Notebooks\", \"Aplicar Python en proyectos\"]\nfor objetivo in objetivos:\n    print(\"-\", objetivo)\n",
      "metadata": {
        "trusted": true
      },
      "outputs": [
        {
          "name": "stdout",
          "output_type": "stream",
          "text": "- Aprender fundamentos de Ciencia de Datos\n- Usar Jupyter Notebooks\n- Aplicar Python en proyectos\n"
        }
      ],
      "execution_count": 7
    },
    {
      "id": "340a85a5-36de-4f39-8f76-1c3889ebc451",
      "cell_type": "markdown",
      "source": "## Ejercicio 11 - Autor\n### Author\n# Vivi",
      "metadata": {}
    },
    {
      "id": "d8513630-7fb7-48df-ba27-3f7a775227dc",
      "cell_type": "code",
      "source": "",
      "metadata": {
        "trusted": true
      },
      "outputs": [],
      "execution_count": null
    }
  ]
}